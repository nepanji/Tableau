{
 "cells": [
  {
   "cell_type": "code",
   "execution_count": 1,
   "id": "f1481917",
   "metadata": {},
   "outputs": [],
   "source": [
    "# Dependencies and Setup\n",
    "import pandas as pd\n",
    "from glob import glob\n",
    "import numpy as np\n",
    "\n"
   ]
  },
  {
   "cell_type": "code",
   "execution_count": 2,
   "id": "b760375b",
   "metadata": {},
   "outputs": [],
   "source": [
    "# View each CSV file dtypes\n",
    "# File to Load\n",
    "jan2019file = \"data/2019/Citibike-01.csv\"\n",
    "feb2019file = \"data/2019/Citibike-02.csv\"\n",
    "mar2019file = \"data/2019/Citibike-03.csv\"\n",
    "apr2019file = \"data/2019/Citibike-04.csv\"\n",
    "may2019file = \"data/2019/Citibike-05.csv\"\n",
    "jun2019file = \"data/2019/Citibike-06.csv\"\n",
    "jul2019file = \"data/2019/Citibike-07.csv\"\n",
    "aug2019file = \"data/2019/Citibike-08.csv\"\n",
    "sept2019file = \"data/2019/Citibike-09.csv\"\n",
    "oct2019file = \"data/2019/Citibike-10.csv\"\n",
    "nov2019file = \"data/2019/Citibike-11.csv\"\n",
    "dec2019file = \"data/2019/Citibike-12.csv\""
   ]
  },
  {
   "cell_type": "code",
   "execution_count": 3,
   "id": "fafe7158",
   "metadata": {
    "scrolled": true
   },
   "outputs": [],
   "source": [
    "# Read Rider data files from each month and store into Pandas DataFrames\n",
    "dec19= pd.read_csv(dec2019file)\n",
    "nov19= pd.read_csv(nov2019file)\n",
    "oct19= pd.read_csv(oct2019file)\n",
    "sept19= pd.read_csv(sept2019file)\n",
    "aug19= pd.read_csv(aug2019file)\n",
    "jul19= pd.read_csv(jul2019file)\n",
    "jun19= pd.read_csv(jun2019file)\n",
    "may19= pd.read_csv(may2019file)\n",
    "apr19= pd.read_csv(apr2019file)\n",
    "mar19= pd.read_csv(mar2019file)\n",
    "feb19= pd.read_csv(feb2019file)\n",
    "jan19= pd.read_csv(jan2019file)"
   ]
  },
  {
   "cell_type": "code",
   "execution_count": 4,
   "id": "61a4f4d9",
   "metadata": {},
   "outputs": [
    {
     "data": {
      "text/plain": [
       "Index(['tripduration', 'starttime', 'stoptime', 'start station id',\n",
       "       'start station name', 'start station latitude',\n",
       "       'start station longitude', 'end station id', 'end station name',\n",
       "       'end station latitude', 'end station longitude', 'bikeid', 'usertype',\n",
       "       'birth year', 'gender'],\n",
       "      dtype='object')"
      ]
     },
     "execution_count": 4,
     "metadata": {},
     "output_type": "execute_result"
    }
   ],
   "source": [
    "dec19.columns"
   ]
  },
  {
   "cell_type": "code",
   "execution_count": 5,
   "id": "41fb28a0",
   "metadata": {},
   "outputs": [
    {
     "data": {
      "text/plain": [
       "Index(['tripduration', 'starttime', 'stoptime', 'start station id',\n",
       "       'start station name', 'start station latitude',\n",
       "       'start station longitude', 'end station id', 'end station name',\n",
       "       'end station latitude', 'end station longitude', 'bikeid', 'usertype',\n",
       "       'birth year', 'gender'],\n",
       "      dtype='object')"
      ]
     },
     "execution_count": 5,
     "metadata": {},
     "output_type": "execute_result"
    }
   ],
   "source": [
    "jan19.columns"
   ]
  },
  {
   "cell_type": "code",
   "execution_count": 6,
   "id": "4d9b8181",
   "metadata": {},
   "outputs": [
    {
     "data": {
      "text/plain": [
       "tripduration                 int64\n",
       "starttime                   object\n",
       "stoptime                    object\n",
       "start station id             int64\n",
       "start station name          object\n",
       "start station latitude     float64\n",
       "start station longitude    float64\n",
       "end station id               int64\n",
       "end station name            object\n",
       "end station latitude       float64\n",
       "end station longitude      float64\n",
       "bikeid                       int64\n",
       "usertype                    object\n",
       "birth year                   int64\n",
       "gender                       int64\n",
       "dtype: object"
      ]
     },
     "execution_count": 6,
     "metadata": {},
     "output_type": "execute_result"
    }
   ],
   "source": [
    "jan19.dtypes"
   ]
  },
  {
   "cell_type": "code",
   "execution_count": 7,
   "id": "378c285a",
   "metadata": {},
   "outputs": [
    {
     "data": {
      "text/plain": [
       "tripduration                 int64\n",
       "starttime                   object\n",
       "stoptime                    object\n",
       "start station id             int64\n",
       "start station name          object\n",
       "start station latitude     float64\n",
       "start station longitude    float64\n",
       "end station id               int64\n",
       "end station name            object\n",
       "end station latitude       float64\n",
       "end station longitude      float64\n",
       "bikeid                       int64\n",
       "usertype                    object\n",
       "birth year                   int64\n",
       "gender                       int64\n",
       "dtype: object"
      ]
     },
     "execution_count": 7,
     "metadata": {},
     "output_type": "execute_result"
    }
   ],
   "source": [
    "dec19.dtypes"
   ]
  },
  {
   "cell_type": "code",
   "execution_count": 19,
   "id": "15dd2398",
   "metadata": {
    "scrolled": true
   },
   "outputs": [
    {
     "data": {
      "text/plain": [
       "tripduration               19728\n",
       "starttime                  19728\n",
       "stoptime                   19728\n",
       "start station id           19728\n",
       "start station name         19728\n",
       "start station latitude     19728\n",
       "start station longitude    19728\n",
       "end station id             19728\n",
       "end station name           19728\n",
       "end station latitude       19728\n",
       "end station longitude      19728\n",
       "bikeid                     19728\n",
       "usertype                   19728\n",
       "birth year                 19728\n",
       "gender                     19728\n",
       "dtype: int64"
      ]
     },
     "execution_count": 19,
     "metadata": {},
     "output_type": "execute_result"
    }
   ],
   "source": [
    "dec19.count()"
   ]
  },
  {
   "cell_type": "code",
   "execution_count": 20,
   "id": "be443150",
   "metadata": {
    "scrolled": false
   },
   "outputs": [
    {
     "data": {
      "text/plain": [
       "tripduration               19676\n",
       "starttime                  19676\n",
       "stoptime                   19676\n",
       "start station id           19676\n",
       "start station name         19676\n",
       "start station latitude     19676\n",
       "start station longitude    19676\n",
       "end station id             19676\n",
       "end station name           19676\n",
       "end station latitude       19676\n",
       "end station longitude      19676\n",
       "bikeid                     19676\n",
       "usertype                   19676\n",
       "birth year                 19676\n",
       "gender                     19676\n",
       "dtype: int64"
      ]
     },
     "execution_count": 20,
     "metadata": {},
     "output_type": "execute_result"
    }
   ],
   "source": [
    "jan19.count()"
   ]
  },
  {
   "cell_type": "markdown",
   "id": "cd57fe09",
   "metadata": {},
   "source": [
    "All of the 2019 csv files were cleaned by Citibike."
   ]
  },
  {
   "cell_type": "code",
   "execution_count": 21,
   "id": "12e1429d",
   "metadata": {
    "scrolled": true
   },
   "outputs": [
    {
     "data": {
      "text/plain": [
       "['data/2019/Citibike-01.csv',\n",
       " 'data/2019/Citibike-02.csv',\n",
       " 'data/2019/Citibike-03.csv',\n",
       " 'data/2019/Citibike-04.csv',\n",
       " 'data/2019/Citibike-05.csv',\n",
       " 'data/2019/Citibike-06.csv',\n",
       " 'data/2019/Citibike-07.csv',\n",
       " 'data/2019/Citibike-08.csv',\n",
       " 'data/2019/Citibike-09.csv',\n",
       " 'data/2019/Citibike-10.csv',\n",
       " 'data/2019/Citibike-11.csv',\n",
       " 'data/2019/Citibike-12.csv']"
      ]
     },
     "execution_count": 21,
     "metadata": {},
     "output_type": "execute_result"
    }
   ],
   "source": [
    "# List all files that match pattern and sort files to Load\n",
    "_2019_file = sorted(glob(\"data/2019/Citibike-*.csv\"))\n",
    "_2019_file"
   ]
  },
  {
   "cell_type": "code",
   "execution_count": 22,
   "id": "037ec577",
   "metadata": {
    "scrolled": true
   },
   "outputs": [],
   "source": [
    "# Concat all csv files into one DataFrame \n",
    "all_2019 = pd.concat((pd.read_csv(file).assign(filename = file)\n",
    "          for file in _2019_file), ignore_index = True)"
   ]
  },
  {
   "cell_type": "code",
   "execution_count": 23,
   "id": "40cc9445",
   "metadata": {},
   "outputs": [],
   "source": [
    "all_2019.to_csv (r'data/2019/Citibike-2019.csv', index = None, header=True)"
   ]
  },
  {
   "cell_type": "code",
   "execution_count": null,
   "id": "49cccfc8",
   "metadata": {},
   "outputs": [],
   "source": []
  }
 ],
 "metadata": {
  "kernelspec": {
   "display_name": "PythonData (base)",
   "language": "python",
   "name": "pythondata"
  },
  "language_info": {
   "codemirror_mode": {
    "name": "ipython",
    "version": 3
   },
   "file_extension": ".py",
   "mimetype": "text/x-python",
   "name": "python",
   "nbconvert_exporter": "python",
   "pygments_lexer": "ipython3",
   "version": "3.8.8"
  }
 },
 "nbformat": 4,
 "nbformat_minor": 5
}
